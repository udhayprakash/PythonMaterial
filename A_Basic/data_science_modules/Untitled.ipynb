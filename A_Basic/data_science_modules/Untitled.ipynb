{
 "cells": [
  {
   "cell_type": "code",
   "execution_count": 2,
   "metadata": {},
   "outputs": [
    {
     "name": "stdout",
     "output_type": "stream",
     "text": [
      "np.concatenate((a,b)) = [[1. 2.]\n",
      " [3. 4.]\n",
      " [5. 6.]\n",
      " [7. 8.]]\n",
      "np.concatenate((a,b), axis = 0) = [[1. 2.]\n",
      " [3. 4.]\n",
      " [5. 6.]\n",
      " [7. 8.]]\n",
      "np.concatenate((a,b), axis = 1) = [[1. 2. 5. 6.]\n",
      " [3. 4. 7. 8.]]\n"
     ]
    }
   ],
   "source": [
    "import numpy as np\n",
    "''' For multi-dimensional arrays, it is possible to specify the axis along which multiple arrays can be concatenated. '''\n",
    "a = np.array([[1,2], [3,4]], float)\n",
    "b = np.array([[5,6], [7,8]], float)\n",
    "print \"np.concatenate((a,b)) =\", np.concatenate((a,b))\n",
    "print \"np.concatenate((a,b), axis = 0) =\", np.concatenate((a,b), axis = 0)\n",
    "print \"np.concatenate((a,b), axis = 1) =\", np.concatenate((a,b), axis = 1)\n"
   ]
  },
  {
   "cell_type": "code",
   "execution_count": null,
   "metadata": {},
   "outputs": [],
   "source": []
  }
 ],
 "metadata": {
  "kernelspec": {
   "display_name": "Python 2",
   "language": "python",
   "name": "python2"
  },
  "language_info": {
   "codemirror_mode": {
    "name": "ipython",
    "version": 2
   },
   "file_extension": ".py",
   "mimetype": "text/x-python",
   "name": "python",
   "nbconvert_exporter": "python",
   "pygments_lexer": "ipython2",
   "version": "2.7.15"
  }
 },
 "nbformat": 4,
 "nbformat_minor": 2
}

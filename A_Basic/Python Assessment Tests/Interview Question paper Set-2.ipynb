{
 "cells": [
  {
   "cell_type": "markdown",
   "metadata": {},
   "source": [
    "### Interview Question paper Set-2\n",
    "__1.__ If a string myString = 'Python Programming$', demonstrate the difference between myString.find() and myString.index()?\n",
    "\n",
    "__2.__  Observe the following code:\n",
    "```\n",
    "a = 200\n",
    "b = 200\n",
    "\n",
    "c = id(a) == id(b)\n",
    "\n",
    "x = 300\n",
    "y = 300\n",
    "\n",
    "z = id(x) == id(y)\n",
    "\n",
    "print c == z\n",
    "```\n",
    "what will be the result, that will be display on console. \n",
    "\n",
    "__3.__ If mylist = [0, -1, 3, 5, 6], what is the difference between mylist.sort() and sorted(mylist)?\n",
    "\n",
    "__4.__ what is the difference between dictionary attributes: pop() and popitem() ?\n",
    "\n",
    "__5.__ Write a function to highlist the vowels, case-insensitively, in the input string, which will be given as runtime input.\n",
    "\n",
    "__6.__ write a recursive function to display the reverse of a given string, using recursive function.\n",
    "```\n",
    "ex:'Python' -> 'nohtyP'\n",
    "```\n",
    "\n",
    "__7.__ what is the result of the below statement:\n",
    "```\n",
    "sum(i*i for i in range(10))\n",
    "```\n",
    "\n",
    "__8.__ Demonstrate the difference between re.search() and re.match(), with an example?\n",
    "\n",
    "__9.__ write a script to implement the single linked list?\n",
    "\n",
    "__10.__ Write a program to display the below pattern:\n",
    "```\n",
    "    \t1\n",
    " \t 1  1  1\n",
    "  1  1  1  1  1\n",
    "1 1  1  1  1  1  1\n",
    "  1  1  1  1  1  \n",
    "     1  1  1 \n",
    "        1\n",
    "```"
   ]
  }
 ],
 "metadata": {
  "kernelspec": {
   "display_name": "Python 2",
   "language": "python",
   "name": "python2"
  },
  "language_info": {
   "codemirror_mode": {
    "name": "ipython",
    "version": 2
   },
   "file_extension": ".py",
   "mimetype": "text/x-python",
   "name": "python",
   "nbconvert_exporter": "python",
   "pygments_lexer": "ipython2",
   "version": "2.7.12"
  }
 },
 "nbformat": 4,
 "nbformat_minor": 1
}

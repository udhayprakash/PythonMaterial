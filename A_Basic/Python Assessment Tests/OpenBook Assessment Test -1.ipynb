{
 "cells": [
  {
   "cell_type": "markdown",
   "metadata": {},
   "source": [
    "# OpenBook Assessment Test -1\n",
    "\n",
    "#### Duration: 90 mins\n",
    "\n",
    "    Please type python programs for the following. Once done please move all the code files to a foder in your name. \n",
    "    Compress the folder and email it to the coordinator.\n",
    "    \n",
    "***"
   ]
  },
  {
   "cell_type": "markdown",
   "metadata": {},
   "source": [
    "__Q1:__ Add given list of numbers by place value addition (do not directly add the numbers. You are allowed only to add single digit numbers)."
   ]
  },
  {
   "cell_type": "markdown",
   "metadata": {},
   "source": [
    "__Q2:__ Sort a list that has more than 1000 elements, remove duplicates on that list. Generate needed 1000 elements in random."
   ]
  },
  {
   "cell_type": "markdown",
   "metadata": {},
   "source": [
    "__Q3:__ Provide a solution for the below problem. \n",
    "    \n",
    "```\n",
    "    A = [1, 3, 5, 7, 9, ... n]\n",
    "    B = [2, 4, 6, 8, 10, ... n+1]\n",
    "    \n",
    "    Expected output: [3, 1, 11, 1, , 19, ...]\n",
    "```"
   ]
  },
  {
   "cell_type": "markdown",
   "metadata": {},
   "source": [
    "__Q4:__ Draw the below pattern.\n",
    "    \n",
    "__input:__ 9\n",
    "\n",
    "__output:__\n",
    "        \n",
    "        \n",
    "\t\t\t\t\t\t\t\t\t1\n",
    "                                  2 1 2\n",
    "                                3 2 1 2 3\n",
    "                              4 3 2 1 2 3 4\n",
    "                            5 4 3 2 1 2 3 4 5\n",
    "                          6 5 4 3 2 1 2 3 4 5 6\n",
    "                        7 6 5 4 3 2 1 2 3 4 5 6 7\n",
    "                      8 7 6 5 4 3 2 1 2 3 4 5 6 7 8\n",
    "                    9 8 7 6 5 4 3 2 1 2 3 4 5 6 7 8 9\n",
    "            "
   ]
  },
  {
   "cell_type": "markdown",
   "metadata": {},
   "source": [
    "__Q5:__ Replace the opposite patterns in the given string with number in increasing detection. \n",
    "\n",
    "__Example:__ {abcdefbafexyz} will become {abcdef1122xyz}\n",
    "    "
   ]
  }
 ],
 "metadata": {
  "kernelspec": {
   "display_name": "Python 3",
   "language": "python",
   "name": "python3"
  },
  "language_info": {
   "codemirror_mode": {
    "name": "ipython",
    "version": 3
   },
   "file_extension": ".py",
   "mimetype": "text/x-python",
   "name": "python",
   "nbconvert_exporter": "python",
   "pygments_lexer": "ipython3",
   "version": "3.7.1"
  }
 },
 "nbformat": 4,
 "nbformat_minor": 2
}

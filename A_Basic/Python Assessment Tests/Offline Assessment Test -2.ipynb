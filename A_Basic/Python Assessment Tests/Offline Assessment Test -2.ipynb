{
 "cells": [
  {
   "cell_type": "markdown",
   "metadata": {},
   "source": [
    "## Offline Assessment Test -2\n",
    "\n",
    "#### This is an offline test, for whom the answers need to be written on paper.\n",
    "\n",
    "__Duration:__ 90minutes"
   ]
  },
  {
   "cell_type": "markdown",
   "metadata": {},
   "source": [
    "__Q1:__ Demonstrate the usage of @classmethod, @staticmethod and @property, each with an example."
   ]
  },
  {
   "cell_type": "markdown",
   "metadata": {},
   "source": [
    "__Q2:__ Write a program to display the below shape\n",
    "```\n",
    "    *\n",
    "   ***\n",
    "  *****\n",
    " *******\n",
    "*********\n",
    "*********\n",
    "*********\n",
    "***   ***\n",
    "***   ***\n",
    "***   ***\n",
    "***   ***\n",
    "```"
   ]
  },
  {
   "cell_type": "markdown",
   "metadata": {},
   "source": [
    "__Q3:__ Write a program to display the numbers in the below pattern:\n",
    "        \n",
    "```\n",
    "01  02  03  04 05\n",
    "14  15  16  17 06\n",
    "13  20  19  18 07\n",
    "12  11  10  09 08\n",
    "```"
   ]
  },
  {
   "cell_type": "markdown",
   "metadata": {},
   "source": [
    "__Q4:__ Write a program to display the prime numbers between 0 and 100. Among them, if the 5th and 6th prime numbers are the first two fibonacci numbers, what is the 7th fibonacci number"
   ]
  },
  {
   "cell_type": "markdown",
   "metadata": {},
   "source": [
    "__Q5:__ write a class to implement the double linked list?"
   ]
  },
  {
   "cell_type": "markdown",
   "metadata": {},
   "source": [
    "__Q6:__ Write a class with methods, to check whether a given year is leap year, or not.\n",
    " \n",
    "```\n",
    "HINT: A leap year is exactly divisible by 4 except for century years (years ending with 00). The century year is a leap year only if it is perfectly divisible by 400. For example,\n",
    "\n",
    "2017 is not a leap year\n",
    "1900 is a not leap year\n",
    "2012 is a leap year\n",
    "2000 is a leap year\n",
    "```"
   ]
  }
 ],
 "metadata": {
  "kernelspec": {
   "display_name": "Python 3",
   "language": "python",
   "name": "python3"
  },
  "language_info": {
   "codemirror_mode": {
    "name": "ipython",
    "version": 3
   },
   "file_extension": ".py",
   "mimetype": "text/x-python",
   "name": "python",
   "nbconvert_exporter": "python",
   "pygments_lexer": "ipython3",
   "version": "3.7.1"
  }
 },
 "nbformat": 4,
 "nbformat_minor": 1
}

{
 "cells": [
  {
   "cell_type": "markdown",
   "metadata": {},
   "source": [
    "# OpenBook Assessment Test -3\n",
    "\n",
    "#### Duration: 90 mins\n",
    "\n",
    "    Please type python programs for the following. Once done please move all the code files to \n",
    "    a foder in your name. Compress the folder and email it to the coordinator.\n",
    "    \n",
    "***"
   ]
  },
  {
   "cell_type": "markdown",
   "metadata": {},
   "source": [
    "__Q1:__ Using the built-in function, divmod(), try to get the reverse of a 5 digit number, and the sum of its digits"
   ]
  },
  {
   "cell_type": "markdown",
   "metadata": {},
   "source": [
    "__Q2:__ Write a program to generate csv file containing the follow data:\n",
    "\n",
    "            Name       DOB     Email ID \n",
    "            \n",
    "   _NOTE_: Date of Birth should be in ISO format. All data should be random. Email ids should be valid.\n",
    "   \n",
    "   "
   ]
  },
  {
   "cell_type": "markdown",
   "metadata": {},
   "source": [
    "__Q3:__ Write a program to read the csv file generated using __Q2__, and send an email to the person, if their DOB\n",
    "is today(twick the csv file in accordance, if needed). \n",
    "\n",
    "Create an account and send email using https://smsapi.engineeringtgr.com/"
   ]
  },
  {
   "cell_type": "markdown",
   "metadata": {},
   "source": [
    "__Q4:__ Write a greeting card image containing the text \"Happy New Year [CURRENT YEAR]\" in ariali font"
   ]
  },
  {
   "cell_type": "markdown",
   "metadata": {},
   "source": [
    "__Q5:__ Write a program to read the image generated in __Q4__ and send the image as email content (not attachment) using \n",
    "the sendgrid API. \n",
    "\n",
    "Ensure the API credentials were read from configuration file.\n",
    "\n",
    "_NOTE_: create a free trail account in https://sendgrid.com"
   ]
  }
 ],
 "metadata": {
  "kernelspec": {
   "display_name": "Python 3",
   "language": "python",
   "name": "python3"
  },
  "language_info": {
   "codemirror_mode": {
    "name": "ipython",
    "version": 3
   },
   "file_extension": ".py",
   "mimetype": "text/x-python",
   "name": "python",
   "nbconvert_exporter": "python",
   "pygments_lexer": "ipython3",
   "version": "3.7.1"
  }
 },
 "nbformat": 4,
 "nbformat_minor": 2
}

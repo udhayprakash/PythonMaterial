{
 "cells": [
  {
   "cell_type": "markdown",
   "metadata": {},
   "source": [
    "## Final Assessment Test -1"
   ]
  },
  {
   "cell_type": "markdown",
   "metadata": {},
   "source": [
    "__Q1 : __ Looking at the below code, write down the final values of A0, A1, ...An.\n",
    "\n",
    "```\n",
    "A0 = dict(zip(('a','b','c','d','e'),[1,2,3,4,5]))\n",
    "A1 = xrange(10)\n",
    "A2 = sorted([i for i in A1 if i in A0])\n",
    "A3 = sorted([A0[s] for s in A0])\n",
    "A4 = [i for i in A1 if i in A3]\n",
    "A5 = {i:i*i for i in A1}\n",
    "A6 = [[i,i*i] for i in A1]\n",
    "```\n"
   ]
  },
  {
   "cell_type": "markdown",
   "metadata": {},
   "source": [
    "__Q2:__ Write a program to display the below pattern \n",
    "```\n",
    "0 0 0 0 0 0 0\n",
    "0 1 1 1 1 1 0\n",
    "0 1 1 1 1 1 0\n",
    "0 0 0 0 0 0 0\n",
    "```"
   ]
  },
  {
   "cell_type": "markdown",
   "metadata": {},
   "source": [
    "__Q3:__ write a program to display the below pattern:\n",
    "```\n",
    "     *\n",
    "    * *\n",
    "   *   *\n",
    "  *     *\n",
    " *       *\n",
    "*         *\n",
    " *       *\n",
    "  *     *\n",
    "   *   *\n",
    "    * *\n",
    "     *\n",
    "     \n",
    "```"
   ]
  },
  {
   "cell_type": "markdown",
   "metadata": {},
   "source": [
    "__Q4:__ Write a program to display the below pattern (Floyd's Triangle):\n",
    "```\n",
    "1\n",
    "2 3\n",
    "4 5 6\n",
    "7 8 9 10\n",
    "```"
   ]
  },
  {
   "cell_type": "markdown",
   "metadata": {},
   "source": [
    "__Q5:__ Write a program which takes the below Input and returns the corresponding output, without using calender module:\n",
    "\n",
    "***\n",
    "__Input:__ 31 Jan 2016\n",
    "\n",
    "__Output:__ It is 31st day of the year 2016\n",
    "***\n",
    "__Input:__ 22 Feb 2016\n",
    "\n",
    "__Output:__ It is 53rd day of the year 2016\n",
    "***\n",
    "__Input:__ 1 Mar 2016\n",
    "\n",
    "__Output:__ It is 61st day of the year 2016\n",
    "***\n",
    "__HINT:__ 1st, 2nd, 3rd, 4th, 5th, 6th, 7th, 8th, 9th, 0th\n"
   ]
  },
  {
   "cell_type": "markdown",
   "metadata": {},
   "source": [
    "__Q6:__ If the user enters 5 10-digit mobile numbers in either of the below three formats, \n",
    "```\n",
    "07895462130\n",
    "919875641230\n",
    "+9195969878\n",
    "```\n",
    "process it and display them in the sorted order.\n",
    "```\n",
    "+91 78954 62130\n",
    "+91 91959 69878\n",
    "+91 98756 41230\n",
    "```\n",
    "__HINT:__ +91 XXXXX XXXXX  is the typical format of 10-digit mobile number"
   ]
  }
 ],
 "metadata": {
  "kernelspec": {
   "display_name": "Python 2",
   "language": "python",
   "name": "python2"
  },
  "language_info": {
   "codemirror_mode": {
    "name": "ipython",
    "version": 2
   },
   "file_extension": ".py",
   "mimetype": "text/x-python",
   "name": "python",
   "nbconvert_exporter": "python",
   "pygments_lexer": "ipython2",
   "version": "2.7.12"
  }
 },
 "nbformat": 4,
 "nbformat_minor": 1
}

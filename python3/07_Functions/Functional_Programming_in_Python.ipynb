{
 "cells": [
  {
   "cell_type": "markdown",
   "metadata": {},
   "source": [
    "#### Advantage of Functional Programming\n",
    "\n",
    "- Code reusability\n",
    "- To modularize the problem \n",
    "- Better maintenance of the code \n",
    "    - Pure functions are easier to reason about\n",
    "    - Testing is easier, and pure functions lend themselves well to techniques like property-based testing\n",
    "    - Debugging is easier\n"
   ]
  },
  {
   "cell_type": "code",
   "execution_count": null,
   "metadata": {},
   "outputs": [],
   "source": []
  }
 ],
 "metadata": {
  "kernelspec": {
   "display_name": "Python 3",
   "language": "python",
   "name": "python3"
  },
  "language_info": {
   "codemirror_mode": {
    "name": "ipython",
    "version": 3
   },
   "file_extension": ".py",
   "mimetype": "text/x-python",
   "name": "python",
   "nbconvert_exporter": "python",
   "pygments_lexer": "ipython3",
   "version": "3.7.1"
  }
 },
 "nbformat": 4,
 "nbformat_minor": 2
}

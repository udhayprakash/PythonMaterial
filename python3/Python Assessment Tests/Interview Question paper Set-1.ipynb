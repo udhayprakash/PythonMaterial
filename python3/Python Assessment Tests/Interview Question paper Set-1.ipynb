{
 "cells": [
  {
   "cell_type": "markdown",
   "metadata": {},
   "source": [
    "### Interview Question paper Set-1\n",
    "__1.__ If a string myString = 'Python Programming$', what is the value of myString[-0][-1]\n",
    "\n",
    "__2.__  Observe the following code:\n",
    "\n",
    "```\n",
    "a = 200\n",
    "b = 200\n",
    "\n",
    "c = id(a) == id(b)\n",
    "\n",
    "x = 300\n",
    "y = 300\n",
    "\n",
    "z = id(x) == id(y)\n",
    "\n",
    "print c == z\n",
    "```\n",
    "what will be the result, that will be display on console. \n",
    "\n",
    "__3.__ What is the sorting algorithm used in python?\n",
    "\n",
    "__4.__ Write a Program to convert this heterogeneous tuple completely to flat tuple.\n",
    "```\n",
    "Input = (2,23, 34, [55, 'six six', (77, 88, ['nine nine', 0])])\n",
    "\n",
    "Output = (2, 23, 34, 55, 'six six', 77, 88, 'nine nine', 0)\n",
    "```\n",
    "__5.__ What is the result of set1 = {1, 'Python', True}\n",
    "\n",
    "__6.__ Write a function to print the greater number, among two numbers\n",
    "\n",
    "__7.__ Write a function that validates and prints whether the run-time input given is palindrome or not.\n",
    "\tEx: 'otto'\n",
    "    'Evil is a deed as I live' Hint: ignore white-space here.\n",
    "\n",
    "__8.__ Write a function to calculate the factorial of a number.\n",
    "    Hint: factorial(4) = 4*3*2*1 = 24\n",
    "\n",
    "__9.__ write a script to implement the single linked list?\n",
    "\n",
    "__10.__ Write a program to display the below pattern:\n",
    "```\n",
    "    \t1\n",
    " \t 1  1  1\n",
    "  1  1  1  1  1\n",
    "1 1  1  1  1  1  1\n",
    "  1  1  1  1  1  \n",
    "     1  1  1 \n",
    "        1\n",
    "\n",
    "```"
   ]
  }
 ],
 "metadata": {
  "kernelspec": {
   "display_name": "Python 2",
   "language": "python",
   "name": "python2"
  },
  "language_info": {
   "codemirror_mode": {
    "name": "ipython",
    "version": 2
   },
   "file_extension": ".py",
   "mimetype": "text/x-python",
   "name": "python",
   "nbconvert_exporter": "python",
   "pygments_lexer": "ipython2",
   "version": "2.7.12"
  }
 },
 "nbformat": 4,
 "nbformat_minor": 1
}

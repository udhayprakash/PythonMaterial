{
 "cells": [
  {
   "cell_type": "code",
   "execution_count": 1,
   "metadata": {},
   "outputs": [],
   "source": [
    "import os"
   ]
  },
  {
   "cell_type": "code",
   "execution_count": 3,
   "metadata": {},
   "outputs": [
    {
     "name": "stdout",
     "output_type": "stream",
     "text": [
      "['DirEntry', 'F_OK', 'MutableMapping', 'O_APPEND', 'O_BINARY', 'O_CREAT', 'O_EXCL', 'O_NOINHERIT', 'O_RANDOM', 'O_RDONLY', 'O_RDWR', 'O_SEQUENTIAL', 'O_SHORT_LIVED', 'O_TEMPORARY', 'O_TEXT', 'O_TRUNC', 'O_WRONLY', 'P_DETACH', 'P_NOWAIT', 'P_NOWAITO', 'P_OVERLAY', 'P_WAIT', 'PathLike', 'R_OK', 'SEEK_CUR', 'SEEK_END', 'SEEK_SET', 'TMP_MAX', 'W_OK', 'X_OK', '_Environ', '__all__', '__builtins__', '__cached__', '__doc__', '__file__', '__loader__', '__name__', '__package__', '__spec__', '_execvpe', '_exists', '_exit', '_fspath', '_get_exports_list', '_putenv', '_unsetenv', '_wrap_close', 'abc', 'abort', 'access', 'altsep', 'chdir', 'chmod', 'close', 'closerange', 'cpu_count', 'curdir', 'defpath', 'device_encoding', 'devnull', 'dup', 'dup2', 'environ', 'error', 'execl', 'execle', 'execlp', 'execlpe', 'execv', 'execve', 'execvp', 'execvpe', 'extsep', 'fdopen', 'fsdecode', 'fsencode', 'fspath', 'fstat', 'fsync', 'ftruncate', 'get_exec_path', 'get_handle_inheritable', 'get_inheritable', 'get_terminal_size', 'getcwd', 'getcwdb', 'getenv', 'getlogin', 'getpid', 'getppid', 'isatty', 'kill', 'linesep', 'link', 'listdir', 'lseek', 'lstat', 'makedirs', 'mkdir', 'name', 'open', 'pardir', 'path', 'pathsep', 'pipe', 'popen', 'putenv', 'read', 'readlink', 'remove', 'removedirs', 'rename', 'renames', 'replace', 'rmdir', 'scandir', 'sep', 'set_handle_inheritable', 'set_inheritable', 'spawnl', 'spawnle', 'spawnv', 'spawnve', 'st', 'startfile', 'stat', 'stat_result', 'statvfs_result', 'strerror', 'supports_bytes_environ', 'supports_dir_fd', 'supports_effective_ids', 'supports_fd', 'supports_follow_symlinks', 'symlink', 'sys', 'system', 'terminal_size', 'times', 'times_result', 'truncate', 'umask', 'uname_result', 'unlink', 'urandom', 'utime', 'waitpid', 'walk', 'write']\n"
     ]
    }
   ],
   "source": [
    "print(dir(os))"
   ]
  },
  {
   "cell_type": "code",
   "execution_count": 4,
   "metadata": {},
   "outputs": [
    {
     "data": {
      "text/plain": [
       "'C:\\\\Users\\\\udhayPrakash\\\\Desktop\\\\PythonMaterial\\\\python3\\\\10_Modules\\\\02_os'"
      ]
     },
     "execution_count": 4,
     "metadata": {},
     "output_type": "execute_result"
    }
   ],
   "source": [
    "os.getcwd()"
   ]
  },
  {
   "cell_type": "code",
   "execution_count": 11,
   "metadata": {},
   "outputs": [
    {
     "data": {
      "text/plain": [
       "['00_demo',\n",
       " '01_Introduction',\n",
       " '02_basics',\n",
       " '03_Language_Components',\n",
       " '04_Exceptions',\n",
       " '05_Debugging',\n",
       " '06_Collections',\n",
       " '07_Functions',\n",
       " '08_Decorators',\n",
       " '09_Iterators_generators_coroutines',\n",
       " '10_Modules',\n",
       " '11_File_Operations',\n",
       " '12_Logging',\n",
       " '13_OOP',\n",
       " '14_Code_Quality',\n",
       " '15_Regular_Expressions',\n",
       " '16_Web_Services',\n",
       " '17_data_science_modules',\n",
       " 'assignment.txt',\n",
       " 'gotchas_n_hiddenFeatures',\n",
       " 'one_liners.py',\n",
       " 'Python Assessment Tests',\n",
       " 'python_2to3_ex.py',\n",
       " 'python_feb_batch_planned_schedule.txt',\n",
       " 'Python_material_part_1.zip']"
      ]
     },
     "execution_count": 11,
     "metadata": {},
     "output_type": "execute_result"
    }
   ],
   "source": [
    "os.listdir('C:\\\\Users\\\\udhayPrakash\\\\Desktop\\\\PythonMaterial\\\\python3')"
   ]
  },
  {
   "cell_type": "code",
   "execution_count": 6,
   "metadata": {},
   "outputs": [
    {
     "name": "stdout",
     "output_type": "stream",
     "text": [
      "my\n",
      "ewfolder\n"
     ]
    }
   ],
   "source": [
    "print('my\\newfolder')"
   ]
  },
  {
   "cell_type": "code",
   "execution_count": 7,
   "metadata": {},
   "outputs": [
    {
     "name": "stdout",
     "output_type": "stream",
     "text": [
      "my\\newfolder\n"
     ]
    }
   ],
   "source": [
    "print('my\\\\newfolder')"
   ]
  },
  {
   "cell_type": "code",
   "execution_count": 8,
   "metadata": {},
   "outputs": [
    {
     "name": "stdout",
     "output_type": "stream",
     "text": [
      "my/newfolder\n"
     ]
    }
   ],
   "source": [
    "print('my/newfolder')"
   ]
  },
  {
   "cell_type": "code",
   "execution_count": 9,
   "metadata": {},
   "outputs": [
    {
     "name": "stdout",
     "output_type": "stream",
     "text": [
      "my\\newfolder\n"
     ]
    }
   ],
   "source": [
    "print(r'my\\newfolder')"
   ]
  },
  {
   "cell_type": "code",
   "execution_count": 12,
   "metadata": {},
   "outputs": [
    {
     "data": {
      "text/plain": [
       "['.ipynb_checkpoints',\n",
       " '01_os_module.py',\n",
       " '02_os_module.py',\n",
       " 'clear_screen.py',\n",
       " 'delete_pyc_files.py',\n",
       " 'os_module_discussion.ipynb',\n",
       " 'scan_pdf.py',\n",
       " 'scan_python_files.py',\n",
       " 'smallDistrictsAnalysesProjectCreator.pyw',\n",
       " 'txtmd5.py',\n",
       " 'txtsize.py',\n",
       " '__pycache__']"
      ]
     },
     "execution_count": 12,
     "metadata": {},
     "output_type": "execute_result"
    }
   ],
   "source": [
    "os.listdir(os.getcwd())"
   ]
  },
  {
   "cell_type": "code",
   "execution_count": 14,
   "metadata": {},
   "outputs": [
    {
     "data": {
      "text/plain": [
       "'.'"
      ]
     },
     "execution_count": 14,
     "metadata": {},
     "output_type": "execute_result"
    }
   ],
   "source": [
    "os.curdir"
   ]
  },
  {
   "cell_type": "code",
   "execution_count": 15,
   "metadata": {},
   "outputs": [
    {
     "data": {
      "text/plain": [
       "'..'"
      ]
     },
     "execution_count": 15,
     "metadata": {},
     "output_type": "execute_result"
    }
   ],
   "source": [
    "os.pardir"
   ]
  },
  {
   "cell_type": "code",
   "execution_count": 16,
   "metadata": {},
   "outputs": [
    {
     "data": {
      "text/plain": [
       "['.ipynb_checkpoints',\n",
       " '01_os_module.py',\n",
       " '02_os_module.py',\n",
       " 'clear_screen.py',\n",
       " 'delete_pyc_files.py',\n",
       " 'os_module_discussion.ipynb',\n",
       " 'scan_pdf.py',\n",
       " 'scan_python_files.py',\n",
       " 'smallDistrictsAnalysesProjectCreator.pyw',\n",
       " 'txtmd5.py',\n",
       " 'txtsize.py',\n",
       " '__pycache__']"
      ]
     },
     "execution_count": 16,
     "metadata": {},
     "output_type": "execute_result"
    }
   ],
   "source": [
    "os.listdir(os.curdir)"
   ]
  },
  {
   "cell_type": "code",
   "execution_count": 17,
   "metadata": {},
   "outputs": [
    {
     "data": {
      "text/plain": [
       "['01_sys',\n",
       " '02_os',\n",
       " '02_shutil',\n",
       " '03_random',\n",
       " '04_argparse',\n",
       " '05_time_related',\n",
       " '06_getpass',\n",
       " '07_subprocess',\n",
       " '08_coloroma',\n",
       " '09_math',\n",
       " '10_reportlab',\n",
       " '11_pyttsx3',\n",
       " '12_multiprocessing',\n",
       " '13_collections_module',\n",
       " '14_turtle_module',\n",
       " '15_Tkinter_examples',\n",
       " '16_custom_commandline',\n",
       " 'concurrent_ex.py',\n",
       " 'consoleDisplayBeautifier',\n",
       " 'div_test.py',\n",
       " 'explanation.txt',\n",
       " 'multiprocessing_ex2.py',\n",
       " 'multi_threading_download.py',\n",
       " 'multi_threading_ex1.py',\n",
       " 'myfile.pyw',\n",
       " 'Parallel_Processing',\n",
       " 'qrcode_generation.py',\n",
       " 'test__puwinauto.py',\n",
       " 'test__puwinauto__calc.py',\n",
       " 'turtleExample1.py',\n",
       " 'url.png',\n",
       " 'user_defined_modules']"
      ]
     },
     "execution_count": 17,
     "metadata": {},
     "output_type": "execute_result"
    }
   ],
   "source": [
    "os.listdir(os.pardir)"
   ]
  },
  {
   "cell_type": "code",
   "execution_count": 18,
   "metadata": {},
   "outputs": [
    {
     "data": {
      "text/plain": [
       "['.ipynb_checkpoints',\n",
       " '01_os_module.py',\n",
       " '02_os_module.py',\n",
       " 'clear_screen.py',\n",
       " 'delete_pyc_files.py',\n",
       " 'os_module_discussion.ipynb',\n",
       " 'scan_pdf.py',\n",
       " 'scan_python_files.py',\n",
       " 'smallDistrictsAnalysesProjectCreator.pyw',\n",
       " 'txtmd5.py',\n",
       " 'txtsize.py',\n",
       " '__pycache__']"
      ]
     },
     "execution_count": 18,
     "metadata": {},
     "output_type": "execute_result"
    }
   ],
   "source": [
    "os.listdir('.')"
   ]
  },
  {
   "cell_type": "code",
   "execution_count": 19,
   "metadata": {},
   "outputs": [
    {
     "data": {
      "text/plain": [
       "['01_sys',\n",
       " '02_os',\n",
       " '02_shutil',\n",
       " '03_random',\n",
       " '04_argparse',\n",
       " '05_time_related',\n",
       " '06_getpass',\n",
       " '07_subprocess',\n",
       " '08_coloroma',\n",
       " '09_math',\n",
       " '10_reportlab',\n",
       " '11_pyttsx3',\n",
       " '12_multiprocessing',\n",
       " '13_collections_module',\n",
       " '14_turtle_module',\n",
       " '15_Tkinter_examples',\n",
       " '16_custom_commandline',\n",
       " 'concurrent_ex.py',\n",
       " 'consoleDisplayBeautifier',\n",
       " 'div_test.py',\n",
       " 'explanation.txt',\n",
       " 'multiprocessing_ex2.py',\n",
       " 'multi_threading_download.py',\n",
       " 'multi_threading_ex1.py',\n",
       " 'myfile.pyw',\n",
       " 'Parallel_Processing',\n",
       " 'qrcode_generation.py',\n",
       " 'test__puwinauto.py',\n",
       " 'test__puwinauto__calc.py',\n",
       " 'turtleExample1.py',\n",
       " 'url.png',\n",
       " 'user_defined_modules']"
      ]
     },
     "execution_count": 19,
     "metadata": {},
     "output_type": "execute_result"
    }
   ],
   "source": [
    "os.listdir('..')"
   ]
  },
  {
   "cell_type": "code",
   "execution_count": 20,
   "metadata": {},
   "outputs": [
    {
     "data": {
      "text/plain": [
       "'C:\\\\Users\\\\udhayPrakash\\\\Desktop\\\\PythonMaterial\\\\python3\\\\10_Modules\\\\02_os'"
      ]
     },
     "execution_count": 20,
     "metadata": {},
     "output_type": "execute_result"
    }
   ],
   "source": [
    "os.getcwd()"
   ]
  },
  {
   "cell_type": "code",
   "execution_count": 21,
   "metadata": {},
   "outputs": [],
   "source": [
    "os.chdir('.')"
   ]
  },
  {
   "cell_type": "code",
   "execution_count": 22,
   "metadata": {},
   "outputs": [
    {
     "data": {
      "text/plain": [
       "'C:\\\\Users\\\\udhayPrakash\\\\Desktop\\\\PythonMaterial\\\\python3\\\\10_Modules\\\\02_os'"
      ]
     },
     "execution_count": 22,
     "metadata": {},
     "output_type": "execute_result"
    }
   ],
   "source": [
    "os.getcwd()"
   ]
  },
  {
   "cell_type": "code",
   "execution_count": 23,
   "metadata": {},
   "outputs": [],
   "source": [
    "os.chdir('..')"
   ]
  },
  {
   "cell_type": "code",
   "execution_count": 24,
   "metadata": {},
   "outputs": [
    {
     "data": {
      "text/plain": [
       "'C:\\\\Users\\\\udhayPrakash\\\\Desktop\\\\PythonMaterial\\\\python3\\\\10_Modules'"
      ]
     },
     "execution_count": 24,
     "metadata": {},
     "output_type": "execute_result"
    }
   ],
   "source": [
    "os.getcwd()"
   ]
  },
  {
   "cell_type": "code",
   "execution_count": 25,
   "metadata": {},
   "outputs": [],
   "source": [
    "os.chdir('..\\..\\..')"
   ]
  },
  {
   "cell_type": "code",
   "execution_count": 26,
   "metadata": {},
   "outputs": [
    {
     "data": {
      "text/plain": [
       "'C:\\\\Users\\\\udhayPrakash\\\\Desktop'"
      ]
     },
     "execution_count": 26,
     "metadata": {},
     "output_type": "execute_result"
    }
   ],
   "source": [
    "os.getcwd()"
   ]
  },
  {
   "cell_type": "code",
   "execution_count": 27,
   "metadata": {},
   "outputs": [],
   "source": [
    "os.chdir(os.pardir)"
   ]
  },
  {
   "cell_type": "code",
   "execution_count": 28,
   "metadata": {},
   "outputs": [
    {
     "data": {
      "text/plain": [
       "'C:\\\\Users\\\\udhayPrakash'"
      ]
     },
     "execution_count": 28,
     "metadata": {},
     "output_type": "execute_result"
    }
   ],
   "source": [
    "os.getcwd()"
   ]
  },
  {
   "cell_type": "code",
   "execution_count": 29,
   "metadata": {},
   "outputs": [],
   "source": [
    "os.chdir('C:\\\\Users\\\\udhayPrakash\\\\Desktop\\\\PythonMaterial\\\\python3\\\\10_Modules\\\\02_os')"
   ]
  },
  {
   "cell_type": "code",
   "execution_count": 30,
   "metadata": {},
   "outputs": [
    {
     "data": {
      "text/plain": [
       "'C:\\\\Users\\\\udhayPrakash\\\\Desktop\\\\PythonMaterial\\\\python3\\\\10_Modules\\\\02_os'"
      ]
     },
     "execution_count": 30,
     "metadata": {},
     "output_type": "execute_result"
    }
   ],
   "source": [
    "os.getcwd()"
   ]
  },
  {
   "cell_type": "code",
   "execution_count": 31,
   "metadata": {},
   "outputs": [],
   "source": [
    "os.mkdir('myFolder')"
   ]
  },
  {
   "cell_type": "code",
   "execution_count": 32,
   "metadata": {},
   "outputs": [
    {
     "data": {
      "text/plain": [
       "['.ipynb_checkpoints',\n",
       " '01_os_module.py',\n",
       " '02_os_module.py',\n",
       " 'clear_screen.py',\n",
       " 'delete_pyc_files.py',\n",
       " 'myFolder',\n",
       " 'os_module_discussion.ipynb',\n",
       " 'scan_pdf.py',\n",
       " 'scan_python_files.py',\n",
       " 'smallDistrictsAnalysesProjectCreator.pyw',\n",
       " 'txtmd5.py',\n",
       " 'txtsize.py',\n",
       " '__pycache__']"
      ]
     },
     "execution_count": 32,
     "metadata": {},
     "output_type": "execute_result"
    }
   ],
   "source": [
    "os.listdir('.')"
   ]
  },
  {
   "cell_type": "code",
   "execution_count": 33,
   "metadata": {},
   "outputs": [
    {
     "ename": "FileNotFoundError",
     "evalue": "[WinError 3] The system cannot find the path specified: 'First/second'",
     "output_type": "error",
     "traceback": [
      "\u001b[1;31m---------------------------------------------------------------------------\u001b[0m",
      "\u001b[1;31mFileNotFoundError\u001b[0m                         Traceback (most recent call last)",
      "\u001b[1;32m<ipython-input-33-bf31c33200f7>\u001b[0m in \u001b[0;36m<module>\u001b[1;34m\u001b[0m\n\u001b[1;32m----> 1\u001b[1;33m \u001b[0mos\u001b[0m\u001b[1;33m.\u001b[0m\u001b[0mmkdir\u001b[0m\u001b[1;33m(\u001b[0m\u001b[1;34m'First/second'\u001b[0m\u001b[1;33m)\u001b[0m\u001b[1;33m\u001b[0m\u001b[1;33m\u001b[0m\u001b[0m\n\u001b[0m",
      "\u001b[1;31mFileNotFoundError\u001b[0m: [WinError 3] The system cannot find the path specified: 'First/second'"
     ]
    }
   ],
   "source": [
    "os.mkdir('First/second')"
   ]
  },
  {
   "cell_type": "code",
   "execution_count": 34,
   "metadata": {},
   "outputs": [
    {
     "ename": "FileNotFoundError",
     "evalue": "[WinError 3] The system cannot find the path specified: 'First\\\\second'",
     "output_type": "error",
     "traceback": [
      "\u001b[1;31m---------------------------------------------------------------------------\u001b[0m",
      "\u001b[1;31mFileNotFoundError\u001b[0m                         Traceback (most recent call last)",
      "\u001b[1;32m<ipython-input-34-a3c1c3fc0479>\u001b[0m in \u001b[0;36m<module>\u001b[1;34m\u001b[0m\n\u001b[1;32m----> 1\u001b[1;33m \u001b[0mos\u001b[0m\u001b[1;33m.\u001b[0m\u001b[0mmkdir\u001b[0m\u001b[1;33m(\u001b[0m\u001b[1;34m'First\\second'\u001b[0m\u001b[1;33m)\u001b[0m\u001b[1;33m\u001b[0m\u001b[1;33m\u001b[0m\u001b[0m\n\u001b[0m",
      "\u001b[1;31mFileNotFoundError\u001b[0m: [WinError 3] The system cannot find the path specified: 'First\\\\second'"
     ]
    }
   ],
   "source": [
    "os.mkdir('First\\second')"
   ]
  },
  {
   "cell_type": "code",
   "execution_count": 35,
   "metadata": {},
   "outputs": [],
   "source": [
    "os.makedirs('First/second/third')"
   ]
  },
  {
   "cell_type": "code",
   "execution_count": 38,
   "metadata": {},
   "outputs": [],
   "source": [
    "# creating a file\n",
    "f = open('myfile.txt', 'w')\n",
    "f.write('my data')\n",
    "f.close()"
   ]
  },
  {
   "cell_type": "code",
   "execution_count": 39,
   "metadata": {},
   "outputs": [
    {
     "data": {
      "text/plain": [
       "['.ipynb_checkpoints',\n",
       " '01_os_module.py',\n",
       " '02_os_module.py',\n",
       " 'clear_screen.py',\n",
       " 'delete_pyc_files.py',\n",
       " 'First',\n",
       " 'myfile.txt',\n",
       " 'myFolder',\n",
       " 'os_module_discussion.ipynb',\n",
       " 'scan_pdf.py',\n",
       " 'scan_python_files.py',\n",
       " 'smallDistrictsAnalysesProjectCreator.pyw',\n",
       " 'txtmd5.py',\n",
       " 'txtsize.py',\n",
       " '__pycache__']"
      ]
     },
     "execution_count": 39,
     "metadata": {},
     "output_type": "execute_result"
    }
   ],
   "source": [
    "os.listdir('.')"
   ]
  },
  {
   "cell_type": "code",
   "execution_count": 40,
   "metadata": {},
   "outputs": [],
   "source": [
    "os.rename('myfile.txt', 'otherfile.tsf')"
   ]
  },
  {
   "cell_type": "code",
   "execution_count": 41,
   "metadata": {},
   "outputs": [
    {
     "data": {
      "text/plain": [
       "['.ipynb_checkpoints',\n",
       " '01_os_module.py',\n",
       " '02_os_module.py',\n",
       " 'clear_screen.py',\n",
       " 'delete_pyc_files.py',\n",
       " 'First',\n",
       " 'myFolder',\n",
       " 'os_module_discussion.ipynb',\n",
       " 'otherfile.tsf',\n",
       " 'scan_pdf.py',\n",
       " 'scan_python_files.py',\n",
       " 'smallDistrictsAnalysesProjectCreator.pyw',\n",
       " 'txtmd5.py',\n",
       " 'txtsize.py',\n",
       " '__pycache__']"
      ]
     },
     "execution_count": 41,
     "metadata": {},
     "output_type": "execute_result"
    }
   ],
   "source": [
    "os.listdir('.')"
   ]
  },
  {
   "cell_type": "code",
   "execution_count": 42,
   "metadata": {},
   "outputs": [],
   "source": [
    "os.rename('First', 'PythonFolder')"
   ]
  },
  {
   "cell_type": "code",
   "execution_count": 43,
   "metadata": {},
   "outputs": [
    {
     "data": {
      "text/plain": [
       "['.ipynb_checkpoints',\n",
       " '01_os_module.py',\n",
       " '02_os_module.py',\n",
       " 'clear_screen.py',\n",
       " 'delete_pyc_files.py',\n",
       " 'myFolder',\n",
       " 'os_module_discussion.ipynb',\n",
       " 'otherfile.tsf',\n",
       " 'PythonFolder',\n",
       " 'scan_pdf.py',\n",
       " 'scan_python_files.py',\n",
       " 'smallDistrictsAnalysesProjectCreator.pyw',\n",
       " 'txtmd5.py',\n",
       " 'txtsize.py',\n",
       " '__pycache__']"
      ]
     },
     "execution_count": 43,
     "metadata": {},
     "output_type": "execute_result"
    }
   ],
   "source": [
    "os.listdir('.')"
   ]
  },
  {
   "cell_type": "markdown",
   "metadata": {},
   "source": [
    "#### Assignment\n",
    "\n",
    "#### PythonFolder\\second\\third\n",
    "os.renames"
   ]
  },
  {
   "cell_type": "code",
   "execution_count": 44,
   "metadata": {},
   "outputs": [
    {
     "ename": "PermissionError",
     "evalue": "[WinError 5] Access is denied: 'myFolder'",
     "output_type": "error",
     "traceback": [
      "\u001b[1;31m---------------------------------------------------------------------------\u001b[0m",
      "\u001b[1;31mPermissionError\u001b[0m                           Traceback (most recent call last)",
      "\u001b[1;32m<ipython-input-44-cc11715459ce>\u001b[0m in \u001b[0;36m<module>\u001b[1;34m\u001b[0m\n\u001b[1;32m----> 1\u001b[1;33m \u001b[0mos\u001b[0m\u001b[1;33m.\u001b[0m\u001b[0mremove\u001b[0m\u001b[1;33m(\u001b[0m\u001b[1;34m'myFolder'\u001b[0m\u001b[1;33m)\u001b[0m\u001b[1;33m\u001b[0m\u001b[1;33m\u001b[0m\u001b[0m\n\u001b[0m",
      "\u001b[1;31mPermissionError\u001b[0m: [WinError 5] Access is denied: 'myFolder'"
     ]
    }
   ],
   "source": [
    "os.remove('myFolder')"
   ]
  },
  {
   "cell_type": "code",
   "execution_count": 45,
   "metadata": {},
   "outputs": [
    {
     "data": {
      "text/plain": [
       "0"
      ]
     },
     "execution_count": 45,
     "metadata": {},
     "output_type": "execute_result"
    }
   ],
   "source": [
    "os.system('ipconfig')"
   ]
  },
  {
   "cell_type": "code",
   "execution_count": 46,
   "metadata": {},
   "outputs": [
    {
     "data": {
      "text/plain": [
       "1"
      ]
     },
     "execution_count": 46,
     "metadata": {},
     "output_type": "execute_result"
    }
   ],
   "source": [
    "os.system('ipconfig111')"
   ]
  },
  {
   "cell_type": "markdown",
   "metadata": {},
   "source": [
    "#### Get all the python files in our material "
   ]
  },
  {
   "cell_type": "code",
   "execution_count": null,
   "metadata": {},
   "outputs": [],
   "source": [
    "os.getcwd()"
   ]
  },
  {
   "cell_type": "code",
   "execution_count": null,
   "metadata": {},
   "outputs": [],
   "source": []
  }
 ],
 "metadata": {
  "kernelspec": {
   "display_name": "Python 3",
   "language": "python",
   "name": "python3"
  },
  "language_info": {
   "codemirror_mode": {
    "name": "ipython",
    "version": 3
   },
   "file_extension": ".py",
   "mimetype": "text/x-python",
   "name": "python",
   "nbconvert_exporter": "python",
   "pygments_lexer": "ipython3",
   "version": "3.7.1"
  }
 },
 "nbformat": 4,
 "nbformat_minor": 2
}

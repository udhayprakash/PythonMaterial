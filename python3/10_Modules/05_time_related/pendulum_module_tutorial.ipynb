{
 "cells": [
  {
   "cell_type": "code",
   "execution_count": 1,
   "metadata": {},
   "outputs": [
    {
     "name": "stdout",
     "output_type": "stream",
     "text": [
      "\n",
      "The following command must be run outside of the IPython shell:\n",
      "\n",
      "    $ pip install pendulum\n",
      "\n",
      "The Python package manager (pip) can only be used from outside of IPython.\n",
      "Please reissue the `pip` command in a separate terminal or command prompt.\n",
      "\n",
      "See the Python documentation for more information on how to install packages:\n",
      "\n",
      "    https://docs.python.org/3/installing/\n"
     ]
    }
   ],
   "source": [
    "pip install pendulum"
   ]
  },
  {
   "cell_type": "code",
   "execution_count": 2,
   "metadata": {},
   "outputs": [
    {
     "data": {
      "text/plain": [
       "0"
      ]
     },
     "execution_count": 2,
     "metadata": {},
     "output_type": "execute_result"
    }
   ],
   "source": [
    "from os import system\n",
    "system('pip install pendulum')"
   ]
  },
  {
   "cell_type": "code",
   "execution_count": 3,
   "metadata": {},
   "outputs": [],
   "source": [
    "from datetime import datetime\n",
    "import pendulum"
   ]
  },
  {
   "cell_type": "code",
   "execution_count": 4,
   "metadata": {},
   "outputs": [],
   "source": [
    "utc = pendulum.timezone('UTC')\n",
    "pst = pendulum.timezone('America/Los_Angeles')\n",
    "ist = pendulum.timezone('Asia/Calcutta')"
   ]
  },
  {
   "cell_type": "code",
   "execution_count": 5,
   "metadata": {},
   "outputs": [
    {
     "name": "stdout",
     "output_type": "stream",
     "text": [
      "<class 'pendulum.tz.timezone.FixedTimezone'>\n"
     ]
    }
   ],
   "source": [
    "print(type(utc))"
   ]
  },
  {
   "cell_type": "code",
   "execution_count": 6,
   "metadata": {},
   "outputs": [
    {
     "data": {
      "text/plain": [
       "Timezone('UTC')"
      ]
     },
     "execution_count": 6,
     "metadata": {},
     "output_type": "execute_result"
    }
   ],
   "source": [
    "utc"
   ]
  },
  {
   "cell_type": "code",
   "execution_count": 7,
   "metadata": {},
   "outputs": [
    {
     "name": "stdout",
     "output_type": "stream",
     "text": [
      "Current Date Time in UTC = 2019-02-04 14:23:20.397821+00:00\n",
      "Current Date Time in PST = 2019-02-04 06:23:20.398821-08:00\n",
      "Current Date Time in IST = 2019-02-04 19:53:20.398821+05:30\n"
     ]
    }
   ],
   "source": [
    "print('Current Date Time in UTC =', datetime.now(utc))\n",
    "print('Current Date Time in PST =', datetime.now(pst))\n",
    "print('Current Date Time in IST =', datetime.now(ist))"
   ]
  },
  {
   "cell_type": "code",
   "execution_count": 8,
   "metadata": {},
   "outputs": [
    {
     "name": "stdout",
     "output_type": "stream",
     "text": [
      "<class 'datetime.datetime'>\n"
     ]
    }
   ],
   "source": [
    "print(type(datetime.now(ist)))"
   ]
  },
  {
   "cell_type": "code",
   "execution_count": 9,
   "metadata": {},
   "outputs": [
    {
     "name": "stdout",
     "output_type": "stream",
     "text": [
      "<class 'pendulum.datetime.DateTime'>\n",
      "Current Date Time in UTC = 2019-02-04T14:25:04.922799+00:00\n"
     ]
    }
   ],
   "source": [
    "utc_time = pendulum.now('UTC')\n",
    "print(type(utc_time))\n",
    "print('Current Date Time in UTC =', utc_time)"
   ]
  },
  {
   "cell_type": "markdown",
   "metadata": {},
   "source": [
    "### Converting Timezones\n"
   ]
  },
  {
   "cell_type": "code",
   "execution_count": 10,
   "metadata": {},
   "outputs": [
    {
     "name": "stdout",
     "output_type": "stream",
     "text": [
      "<class 'pendulum.datetime.DateTime'>\n",
      "Current Date Time in IST = 2019-02-04T19:55:55.838711+05:30\n"
     ]
    }
   ],
   "source": [
    "utc_time = pendulum.now('UTC')\n",
    "ist_time = utc_time.in_timezone('Asia/Calcutta')\n",
    "print(type(ist_time))\n",
    "print('Current Date Time in IST =', ist_time)"
   ]
  },
  {
   "cell_type": "code",
   "execution_count": 11,
   "metadata": {},
   "outputs": [
    {
     "name": "stdout",
     "output_type": "stream",
     "text": [
      "Current Date Time in Paris = 2019-02-04T15:25:55.838711+01:00\n"
     ]
    }
   ],
   "source": [
    "tz = pendulum.timezone('Europe/Paris')\n",
    "paris_time = tz.convert(ist_time)\n",
    "print('Current Date Time in Paris =', paris_time)"
   ]
  },
  {
   "cell_type": "markdown",
   "metadata": {},
   "source": [
    "### Date Time Manipulations\n"
   ]
  },
  {
   "cell_type": "code",
   "execution_count": 12,
   "metadata": {},
   "outputs": [
    {
     "name": "stdout",
     "output_type": "stream",
     "text": [
      "Updated UTC Time 2019-02-04T14:25:55.838711+00:00\n"
     ]
    }
   ],
   "source": [
    "utc_time.add(years=1)\n",
    "utc_time.subtract(months=2)\n",
    "print('Updated UTC Time', utc_time)"
   ]
  },
  {
   "cell_type": "markdown",
   "metadata": {},
   "source": [
    "### Date Time Formatting\n"
   ]
  },
  {
   "cell_type": "code",
   "execution_count": 14,
   "metadata": {},
   "outputs": [
    {
     "data": {
      "text/plain": [
       "'2019-02-04T14:25:55.838711Z'"
      ]
     },
     "execution_count": 14,
     "metadata": {},
     "output_type": "execute_result"
    }
   ],
   "source": [
    "utc_time.to_iso8601_string()"
   ]
  },
  {
   "cell_type": "code",
   "execution_count": 15,
   "metadata": {},
   "outputs": [
    {
     "data": {
      "text/plain": [
       "'Feb 04, 2019'"
      ]
     },
     "execution_count": 15,
     "metadata": {},
     "output_type": "execute_result"
    }
   ],
   "source": [
    "utc_time.to_formatted_date_string()"
   ]
  },
  {
   "cell_type": "code",
   "execution_count": 16,
   "metadata": {},
   "outputs": [
    {
     "data": {
      "text/plain": [
       "'2019-02-04T14:25:55+00:00'"
      ]
     },
     "execution_count": 16,
     "metadata": {},
     "output_type": "execute_result"
    }
   ],
   "source": [
    "utc_time.to_w3c_string()"
   ]
  },
  {
   "cell_type": "code",
   "execution_count": 17,
   "metadata": {},
   "outputs": [
    {
     "data": {
      "text/plain": [
       "'2019-02-04'"
      ]
     },
     "execution_count": 17,
     "metadata": {},
     "output_type": "execute_result"
    }
   ],
   "source": [
    "utc_time.to_date_string()"
   ]
  },
  {
   "cell_type": "code",
   "execution_count": 18,
   "metadata": {},
   "outputs": [
    {
     "data": {
      "text/plain": [
       "'2019-02-04 14:25:55 UTC+0000'"
      ]
     },
     "execution_count": 18,
     "metadata": {},
     "output_type": "execute_result"
    }
   ],
   "source": [
    "# supports strftime() too\n",
    "utc_time.strftime('%Y-%m-%d %H:%M:%S %Z%z')"
   ]
  },
  {
   "cell_type": "markdown",
   "metadata": {},
   "source": [
    "### Parse String to Date Time\n"
   ]
  },
  {
   "cell_type": "code",
   "execution_count": 19,
   "metadata": {},
   "outputs": [
    {
     "data": {
      "text/plain": [
       "DateTime(2018, 5, 21, 22, 0, 0, tzinfo=Timezone('UTC'))"
      ]
     },
     "execution_count": 19,
     "metadata": {},
     "output_type": "execute_result"
    }
   ],
   "source": [
    "dt = pendulum.parse('2018-05-21T22:00:00')\n",
    "dt"
   ]
  },
  {
   "cell_type": "code",
   "execution_count": 20,
   "metadata": {},
   "outputs": [
    {
     "data": {
      "text/plain": [
       "pendulum.datetime.DateTime"
      ]
     },
     "execution_count": 20,
     "metadata": {},
     "output_type": "execute_result"
    }
   ],
   "source": [
    "type(dt)"
   ]
  },
  {
   "cell_type": "code",
   "execution_count": 21,
   "metadata": {},
   "outputs": [
    {
     "data": {
      "text/plain": [
       "DateTime(2018, 5, 21, 22, 0, 0, tzinfo=Timezone('Europe/Paris'))"
      ]
     },
     "execution_count": 21,
     "metadata": {},
     "output_type": "execute_result"
    }
   ],
   "source": [
    "pendulum.parse('2018-05-21T22:00:00', tz='Europe/Paris')"
   ]
  },
  {
   "cell_type": "code",
   "execution_count": 22,
   "metadata": {},
   "outputs": [
    {
     "data": {
      "text/plain": [
       "DateTime(2018, 5, 21, 0, 0, 0, tzinfo=Timezone('UTC'))"
      ]
     },
     "execution_count": 22,
     "metadata": {},
     "output_type": "execute_result"
    }
   ],
   "source": [
    "# parsing using specified format string\n",
    "pendulum.from_format('2018/05/21', 'YYYY/MM/DD')"
   ]
  },
  {
   "cell_type": "markdown",
   "metadata": {},
   "source": [
    "### Duration – timedelta replacement\n"
   ]
  },
  {
   "cell_type": "code",
   "execution_count": 23,
   "metadata": {},
   "outputs": [
    {
     "name": "stdout",
     "output_type": "stream",
     "text": [
      "2 years 1 day 10 hours\n"
     ]
    }
   ],
   "source": [
    "time_delta = pendulum.duration(days=1, hours=10, years=2)\n",
    "print(time_delta)"
   ]
  },
  {
   "cell_type": "code",
   "execution_count": 24,
   "metadata": {},
   "outputs": [
    {
     "name": "stdout",
     "output_type": "stream",
     "text": [
      "time_delta years = 2\n"
     ]
    }
   ],
   "source": [
    "print('time_delta years =', time_delta.years)"
   ]
  },
  {
   "cell_type": "code",
   "execution_count": 25,
   "metadata": {},
   "outputs": [
    {
     "name": "stdout",
     "output_type": "stream",
     "text": [
      "time_delta in seconds = 122400\n"
     ]
    }
   ],
   "source": [
    "print('time_delta in seconds =', time_delta.in_seconds())"
   ]
  },
  {
   "cell_type": "code",
   "execution_count": 26,
   "metadata": {},
   "outputs": [
    {
     "name": "stdout",
     "output_type": "stream",
     "text": [
      "time_delta in words = 2 years 1 day 10 hours\n"
     ]
    }
   ],
   "source": [
    "print('time_delta in words =', time_delta.in_words())"
   ]
  },
  {
   "cell_type": "code",
   "execution_count": 27,
   "metadata": {},
   "outputs": [
    {
     "name": "stdout",
     "output_type": "stream",
     "text": [
      "future date = 2021-02-06T06:01:04.165347+05:30\n"
     ]
    }
   ],
   "source": [
    "print('future date =', pendulum.now() + time_delta)"
   ]
  },
  {
   "cell_type": "markdown",
   "metadata": {},
   "source": [
    "### Period of Time\n"
   ]
  },
  {
   "cell_type": "code",
   "execution_count": 28,
   "metadata": {},
   "outputs": [
    {
     "name": "stdout",
     "output_type": "stream",
     "text": [
      "period in words = 4 days\n",
      "2019-02-04T20:01:44.785670+05:30\n",
      "2019-02-05T20:01:44.785670+05:30\n",
      "2019-02-06T20:01:44.785670+05:30\n",
      "2019-02-07T20:01:44.785670+05:30\n",
      "2019-02-08T20:01:44.785670+05:30\n"
     ]
    }
   ],
   "source": [
    "current_date = pendulum.now()\n",
    "future_date = current_date.add(days=4)\n",
    "\n",
    "period_time = future_date - current_date\n",
    "\n",
    "print('period in words =', period_time.in_words())\n",
    "\n",
    "# period is iterable with days\n",
    "for dt in period_time:\n",
    "    print(dt)"
   ]
  },
  {
   "cell_type": "code",
   "execution_count": null,
   "metadata": {},
   "outputs": [],
   "source": []
  }
 ],
 "metadata": {
  "kernelspec": {
   "display_name": "Python 3",
   "language": "python",
   "name": "python3"
  },
  "language_info": {
   "codemirror_mode": {
    "name": "ipython",
    "version": 3
   },
   "file_extension": ".py",
   "mimetype": "text/x-python",
   "name": "python",
   "nbconvert_exporter": "python",
   "pygments_lexer": "ipython3",
   "version": "3.7.1"
  }
 },
 "nbformat": 4,
 "nbformat_minor": 2
}

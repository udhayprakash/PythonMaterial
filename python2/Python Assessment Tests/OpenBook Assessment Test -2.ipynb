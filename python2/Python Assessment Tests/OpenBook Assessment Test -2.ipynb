{
 "cells": [
  {
   "cell_type": "markdown",
   "metadata": {},
   "source": [
    "# OpenBook Assessment Test -2\n",
    "\n",
    "#### Duration: 90 mins\n",
    "\n",
    "    Please type python programs for the following. Once done please move all the code files to \n",
    "    a foder in your name. Compress the folder and email it to the coordinator.\n",
    "    \n",
    "***"
   ]
  },
  {
   "cell_type": "markdown",
   "metadata": {},
   "source": [
    "__Q1:__ Program to find the longest common prefix between a set of words\n",
    "\n",
    "    input: {'amerigo', 'americ', 'ame', 'america'}\n",
    "    output: 'ame'."
   ]
  },
  {
   "cell_type": "markdown",
   "metadata": {},
   "source": [
    "__Q2:__ Write a unit test script to test the functionality, both positively and negatively, \n",
    "of __Q1__, for below below test cases:\n",
    "\n",
    "    Test Case 1:  sample_data ={'amerigo', 'americ', 'ame', 'america', 'ame'}\n",
    "    Test Case 2:  sample_data ={'apple', 'ape', 'april'}"
   ]
  },
  {
   "cell_type": "markdown",
   "metadata": {},
   "source": [
    "__Q3:__ Write a function which works out how old a child should be to know a certain word. \n",
    "The classification should be based on the length of the word, as follows:\n",
    "        \n",
    "   * 5 years <= 3 letters\n",
    "   * 6 years <= 4 letters\n",
    "   * 8 years <= 6 letters\n",
    "   * 10 years <= 10 letters\n",
    "   * 12 years = any length \n",
    "   \n",
    " Child name should be taken in command line, when executing script.\n"
   ]
  },
  {
   "cell_type": "markdown",
   "metadata": {},
   "source": [
    "__Q4:__ Write a script which executes the script written for __Q3__. \n",
    "\n",
    "Execute that script for the child names: \n",
    "    \n",
    "'Achilles','Adonis','Ajax','Aphrodite','Apollo','Argus','Atalanta','Athena','Atlas','Calista',\n",
    "'Diana','Edda','Electra','Freya','Hector','Helen','Hercules','Janus','Jason','MorpheusNarcissa'\n",
    "'Thor','Ulysses','Venus','Zeus'\n",
    "       "
   ]
  },
  {
   "cell_type": "markdown",
   "metadata": {},
   "source": [
    "__Q5:__ Login to kaggle.com website and download the json dataset at \n",
    "https://www.kaggle.com/rmisra/news-headlines-dataset-for-sarcasm-detection/version/1\n",
    "    \n",
    "    In all those records, get all the headlines for which is_sarcastic = 1, combine them, \n",
    "    and get the rank (based on no. of times repeated) for each word, among them."
   ]
  }
 ],
 "metadata": {
  "kernelspec": {
   "display_name": "Python 3",
   "language": "python",
   "name": "python3"
  },
  "language_info": {
   "codemirror_mode": {
    "name": "ipython",
    "version": 3
   },
   "file_extension": ".py",
   "mimetype": "text/x-python",
   "name": "python",
   "nbconvert_exporter": "python",
   "pygments_lexer": "ipython3",
   "version": "3.7.1"
  }
 },
 "nbformat": 4,
 "nbformat_minor": 2
}

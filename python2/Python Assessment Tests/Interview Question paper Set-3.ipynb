{
 "cells": [
  {
   "cell_type": "markdown",
   "metadata": {},
   "source": [
    "### Interview Question paper Set-3\n",
    "__1.__ If a string myString = 'Python Programming$', what is the value of myString[-0:-1]\n",
    "\n",
    "__2.__  Observe the following code:\n",
    "```\n",
    "a = 200\n",
    "b = 200\n",
    "\n",
    "c = id(a) == id(b)\n",
    "\n",
    "x = 300\n",
    "y = 300\n",
    "\n",
    "z = id(x) == id(y)\n",
    "\n",
    "print c == z\n",
    "```\n",
    "what will be the result, that will be display on console. \n",
    "\n",
    "__3.__ what is the result of this operation:\n",
    "```\n",
    "    tc = (i for i in range(9)); [i.next() for i in tc]\n",
    "```\n",
    "\n",
    "__4.__ what is the result of set('Python Programming') and set(1221)\n",
    "\n",
    "__5.__ Write a function to implement the caesar cipher, for the given input.\n",
    "```\n",
    "    ex1: input  --> 'Python'\n",
    "        output --> 'Qzuipo'\n",
    "    ex2: input -->  'One day, I will achieve my goal!'\n",
    "         output ->  'Pof!ebz-!J!xjmm!bdijfwf!nz!hpbm\"'\n",
    "  HINT: use chr() and ord() builtin functions\n",
    "```\n",
    "__ 6.__ what is the result of the following problem:\n",
    "```\n",
    "\tx = 5\n",
    "\ty = 3\n",
    "\tassert x>y, \"x has to be smaller than y\"\n",
    "```\n",
    "\n",
    "__7.__ Write a regular expression to match the email IDs.\n",
    "\n",
    "__8.__ Demonstrate the difference between re.search() and re.match(), with an example?\n",
    "\n",
    "__9.__ write a script to implement the single linked list?\n",
    "\n",
    "__10.__ Write a program to display the below pattern:\n",
    "```\n",
    "    \t1\n",
    " \t 1  1  1\n",
    "  1  1  1  1  1\n",
    "1 1  1  1  1  1  1\n",
    "  1  1  1  1  1  \n",
    "     1  1  1 \n",
    "        1\n",
    "```"
   ]
  }
 ],
 "metadata": {
  "kernelspec": {
   "display_name": "Python 2",
   "language": "python",
   "name": "python2"
  },
  "language_info": {
   "codemirror_mode": {
    "name": "ipython",
    "version": 2
   },
   "file_extension": ".py",
   "mimetype": "text/x-python",
   "name": "python",
   "nbconvert_exporter": "python",
   "pygments_lexer": "ipython2",
   "version": "2.7.12"
  }
 },
 "nbformat": 4,
 "nbformat_minor": 1
}
